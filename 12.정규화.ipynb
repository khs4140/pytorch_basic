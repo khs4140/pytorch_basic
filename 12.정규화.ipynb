{
 "cells": [
  {
   "cell_type": "markdown",
   "metadata": {},
   "source": [
    "### 필요한 패키지 불러오기"
   ]
  },
  {
   "cell_type": "code",
   "execution_count": 1,
   "metadata": {},
   "outputs": [],
   "source": [
    "import numpy as np\n",
    "import pandas as pd\n",
    "import seaborn as sns\n",
    "import matplotlib.pyplot as plt\n",
    "from copy import deepcopy\n",
    "\n",
    "import torch\n",
    "import torch.nn as nn\n",
    "import torch.nn.functional as F\n",
    "import torch.optim as optim\n",
    "\n",
    "from torchvision import datasets, transforms"
   ]
  },
  {
   "cell_type": "markdown",
   "metadata": {},
   "source": [
    "### 데이터셋 생성"
   ]
  },
  {
   "cell_type": "code",
   "execution_count": 15,
   "metadata": {},
   "outputs": [
    {
     "name": "stdout",
     "output_type": "stream",
     "text": [
      "X shape torch.Size([60000, 784]) / y Shape torch.Size([60000])\n",
      "Input Size of model 784\n",
      "Ouput Size of model 10\n"
     ]
    }
   ],
   "source": [
    "train = datasets.MNIST('../data', train=True, transform=transforms.Compose([\n",
    "    transforms.ToTensor()\n",
    "    ]), download=True)\n",
    "\n",
    "test = datasets.MNIST('../data', train=False, download=True, transform=transforms.Compose([\n",
    "    transforms.ToTensor()\n",
    "]))\n",
    "\n",
    "x = train.data.float() / 255.\n",
    "y = train.targets\n",
    "\n",
    "x = x.view(x.size(0), -1)\n",
    "\n",
    "print(f'X shape {x.size()} / y Shape {y.size()}')\n",
    "\n",
    "input_size = x.size(1)\n",
    "output_size = int(max(y)) + 1\n",
    "\n",
    "print(f'Input Size of model {input_size}\\nOuput Size of model {output_size}')"
   ]
  },
  {
   "cell_type": "code",
   "execution_count": 18,
   "metadata": {},
   "outputs": [
    {
     "data": {
      "text/plain": [
       "784.0"
      ]
     },
     "execution_count": 18,
     "metadata": {},
     "output_type": "execute_result"
    }
   ],
   "source": [
    "train_cnt + valid_cnt"
   ]
  },
  {
   "cell_type": "code",
   "execution_count": 19,
   "metadata": {},
   "outputs": [
    {
     "name": "stdout",
     "output_type": "stream",
     "text": [
      "Train 48000 / Valid 12000 / Test 10000\n",
      "Train torch.Size([48000, 784]) torch.Size([48000])\n",
      "Valid torch.Size([12000, 784]) torch.Size([12000])\n",
      "Test torch.Size([10000, 784]) torch.Size([10000])\n"
     ]
    }
   ],
   "source": [
    "ratios = [0.8, 0.2]\n",
    "\n",
    "train_cnt = int(x.size(0) * ratios[0])\n",
    "valid_cnt = int(x.size(0) * ratios[1])\n",
    "test_cnt = test.data.size(0)\n",
    "\n",
    "cnts = [train_cnt, valid_cnt]\n",
    "\n",
    "print('Train %d / Valid %d / Test %d' %(cnts[0], cnts[1], test_cnt))\n",
    "\n",
    "indices = torch.randperm(x.size(0))\n",
    "\n",
    "x = torch.index_select(x, dim = 0, index = indices)\n",
    "y = torch.index_select(y, dim = 0, index = indices)\n",
    "\n",
    "x = list(x.split(cnts, dim=0))\n",
    "y = list(y.split(cnts, dim=0))\n",
    "\n",
    "x += [(test.data.float() / 255.).view(test_cnt, -1)]\n",
    "y += [test.targets]\n",
    "\n",
    "labels__ = ['Train', 'Valid', 'Test']\n",
    "for l, x_i, y_i in zip(labels__, x, y):\n",
    "    print(l, x_i.size(), y_i.size())"
   ]
  },
  {
   "cell_type": "markdown",
   "metadata": {},
   "source": [
    "### 모델 생성\n"
   ]
  },
  {
   "cell_type": "code",
   "execution_count": 21,
   "metadata": {},
   "outputs": [],
   "source": [
    "class Block(nn.Module):\n",
    "    def __init__(self, input_size, output_size, use_batch_norm=True, dropout_p=.3):\n",
    "\n",
    "        self.input_size = input_size\n",
    "        self.output_size = output_size\n",
    "        self.use_batch_nrom = use_batch_norm\n",
    "        self.dropout_p = dropout_p\n",
    "        \n",
    "        super().__init__()\n",
    "    \n",
    "        def get_regularizer(use_batch_norm, size):\n",
    "            return nn.BatchNorm1d(size) if use_batch_norm else nn.Dropout(dropout_p)\n",
    "\n",
    "        self.block = nn.Sequential(\n",
    "            nn.Linear(input_size, output_size),\n",
    "            nn.LeakyReLU(),\n",
    "            get_regularizer(use_batch_norm, output_size)\n",
    "        )\n",
    "\n",
    "    def forward(self, x):\n",
    "        # |x| = (batch_size, input_size)\n",
    "        y = self.block(x)\n",
    "        # |y| = (batch_size, output_size)\n",
    "\n",
    "        return y"
   ]
  },
  {
   "cell_type": "code",
   "execution_count": 45,
   "metadata": {},
   "outputs": [],
   "source": [
    "class MyModel(nn.Module):\n",
    "    def __init__(self, input_size, output_size, use_batch_norm=True, dropout_p=.3):\n",
    "\n",
    "        super().__init__()\n",
    "\n",
    "        self.layers = nn.Sequential(\n",
    "            Block(input_size, 500, use_batch_norm, dropout_p),\n",
    "            Block(500, 400, use_batch_norm, dropout_p),\n",
    "            Block(400, 300, use_batch_norm, dropout_p),\n",
    "            Block(300, 200, use_batch_norm, dropout_p),\n",
    "            Block(200, 100, use_batch_norm, dropout_p),\n",
    "            Block(100, 50, use_batch_norm, dropout_p),\n",
    "            nn.Linear(50, output_size),\n",
    "            nn.LogSoftmax(dim=-1)\n",
    "        )\n",
    "\n",
    "    def forward(self, x):\n",
    "        # |x| = (batch_size, input_size)\n",
    "        y = self.layers(x)\n",
    "        # |y| = (batch_size, output_size)\n",
    "\n",
    "        return y"
   ]
  },
  {
   "cell_type": "code",
   "execution_count": 46,
   "metadata": {},
   "outputs": [
    {
     "name": "stdout",
     "output_type": "stream",
     "text": [
      "MyModel(\n",
      "  (layers): Sequential(\n",
      "    (0): Block(\n",
      "      (block): Sequential(\n",
      "        (0): Linear(in_features=784, out_features=500, bias=True)\n",
      "        (1): LeakyReLU(negative_slope=0.01)\n",
      "        (2): BatchNorm1d(500, eps=1e-05, momentum=0.1, affine=True, track_running_stats=True)\n",
      "      )\n",
      "    )\n",
      "    (1): Block(\n",
      "      (block): Sequential(\n",
      "        (0): Linear(in_features=500, out_features=400, bias=True)\n",
      "        (1): LeakyReLU(negative_slope=0.01)\n",
      "        (2): BatchNorm1d(400, eps=1e-05, momentum=0.1, affine=True, track_running_stats=True)\n",
      "      )\n",
      "    )\n",
      "    (2): Block(\n",
      "      (block): Sequential(\n",
      "        (0): Linear(in_features=400, out_features=300, bias=True)\n",
      "        (1): LeakyReLU(negative_slope=0.01)\n",
      "        (2): BatchNorm1d(300, eps=1e-05, momentum=0.1, affine=True, track_running_stats=True)\n",
      "      )\n",
      "    )\n",
      "    (3): Block(\n",
      "      (block): Sequential(\n",
      "        (0): Linear(in_features=300, out_features=200, bias=True)\n",
      "        (1): LeakyReLU(negative_slope=0.01)\n",
      "        (2): BatchNorm1d(200, eps=1e-05, momentum=0.1, affine=True, track_running_stats=True)\n",
      "      )\n",
      "    )\n",
      "    (4): Block(\n",
      "      (block): Sequential(\n",
      "        (0): Linear(in_features=200, out_features=100, bias=True)\n",
      "        (1): LeakyReLU(negative_slope=0.01)\n",
      "        (2): BatchNorm1d(100, eps=1e-05, momentum=0.1, affine=True, track_running_stats=True)\n",
      "      )\n",
      "    )\n",
      "    (5): Block(\n",
      "      (block): Sequential(\n",
      "        (0): Linear(in_features=100, out_features=50, bias=True)\n",
      "        (1): LeakyReLU(negative_slope=0.01)\n",
      "        (2): BatchNorm1d(50, eps=1e-05, momentum=0.1, affine=True, track_running_stats=True)\n",
      "      )\n",
      "    )\n",
      "    (6): Linear(in_features=50, out_features=10, bias=True)\n",
      "    (7): LogSoftmax(dim=-1)\n",
      "  )\n",
      ")\n"
     ]
    }
   ],
   "source": [
    "model = MyModel(input_size, output_size, use_batch_norm=True)\n",
    "print(model)"
   ]
  },
  {
   "cell_type": "code",
   "execution_count": 47,
   "metadata": {},
   "outputs": [],
   "source": [
    "optimizer = optim.Adam(model.parameters())\n",
    "crit = nn.NLLLoss()"
   ]
  },
  {
   "cell_type": "code",
   "execution_count": 48,
   "metadata": {},
   "outputs": [],
   "source": [
    "device = torch.device('cpu')\n",
    "if torch.cuda.is_available():\n",
    "    device = torch.device('cuda')\n",
    "\n",
    "model = model.to(device)\n",
    "\n",
    "x = [x_i.to(device) for x_i in x]\n",
    "y = [y_i.to(device) for y_i in y]"
   ]
  },
  {
   "cell_type": "code",
   "execution_count": 49,
   "metadata": {},
   "outputs": [],
   "source": [
    "n_epochs = 1000\n",
    "batch_size = 256\n",
    "print_interval = 10\n",
    "\n",
    "lowest_loss = np.inf\n",
    "lowest_epoch = np.inf\n",
    "\n",
    "early_stop = 50\n",
    "best_model = None"
   ]
  },
  {
   "cell_type": "code",
   "execution_count": 50,
   "metadata": {},
   "outputs": [
    {
     "name": "stdout",
     "output_type": "stream",
     "text": [
      "Epoch 10: Train Loss=2.0732e-02 / Valid Loss=8.2818e-02 / Lowest Loss=7.7201e-02\n",
      "Epoch 20: Train Loss=1.3436e-02 / Valid Loss=8.2202e-02 / Lowest Loss=7.4232e-02\n",
      "Epoch 30: Train Loss=6.5155e-03 / Valid Loss=6.9064e-02 / Lowest Loss=7.3753e-02\n",
      "Epoch 40: Train Loss=8.1215e-03 / Valid Loss=7.4021e-02 / Lowest Loss=6.9064e-02\n",
      "Epoch 50: Train Loss=4.0573e-03 / Valid Loss=7.8159e-02 / Lowest Loss=6.9064e-02\n",
      "Epoch 60: Train Loss=3.2576e-03 / Valid Loss=8.3304e-02 / Lowest Loss=6.9064e-02\n",
      "Epoch 70: Train Loss=2.1211e-03 / Valid Loss=7.7988e-02 / Lowest Loss=6.9064e-02\n",
      "Epoch 80: Train Loss=4.7661e-03 / Valid Loss=8.0477e-02 / Lowest Loss=6.9064e-02\n",
      "Early Stopping!! last 79 Epoch\n",
      "The best Validation Loss => 6.9064e-02 Lowset epoch => 29\n"
     ]
    },
    {
     "data": {
      "text/plain": [
       "<All keys matched successfully>"
      ]
     },
     "execution_count": 50,
     "metadata": {},
     "output_type": "execute_result"
    }
   ],
   "source": [
    "train_history, valid_history = [], []\n",
    "\n",
    "for i in range(n_epochs):\n",
    "    model.train() ## 학습 모드..!!\n",
    "\n",
    "    indices = torch.randperm(x[0].size(0)).to(device)\n",
    "\n",
    "    x_ = torch.index_select(x[0], dim=0, index=indices)\n",
    "    y_ = torch.index_select(y[0], dim=0, index=indices)\n",
    "\n",
    "    x_ = x_.split(batch_size, dim=0)\n",
    "    y_ = y_.split(batch_size, dim=0)\n",
    "\n",
    "    train_loss, valid_loss = 0, 0\n",
    "    y_hat = []\n",
    "\n",
    "    for x_i, y_i in zip(x_, y_):\n",
    "        y_hat_i = model(x_i)\n",
    "        \n",
    "        loss = crit(y_hat_i, y_i)\n",
    "        \n",
    "        optimizer.zero_grad()\n",
    "        loss.backward()\n",
    "        optimizer.step()\n",
    "\n",
    "        train_loss += loss\n",
    "    \n",
    "    train_loss = train_loss / len(x_)\n",
    "\n",
    "    model.eval() ## 평가모드 (valid / test)\n",
    "    with torch.no_grad():\n",
    "        x_ = x[1].split(batch_size, dim=0)\n",
    "        y_ = y[1].split(batch_size, dim=0)\n",
    "\n",
    "        valid_loss = 0\n",
    "\n",
    "        for x_i, y_i in zip(x_, y_):\n",
    "            y_hat_i = model(x_i)\n",
    "\n",
    "            loss = crit(y_hat_i, y_i)\n",
    "\n",
    "            valid_loss += float(loss)\n",
    "            y_hat += [y_hat_i]\n",
    "\n",
    "    valid_loss = valid_loss / len(x_)\n",
    "\n",
    "    train_history.append(train_loss)\n",
    "    valid_history.append(valid_loss)\n",
    "\n",
    "    if (i + 1) % print_interval == 0:\n",
    "        print('Epoch %d: Train Loss=%.4e / Valid Loss=%.4e / Lowest Loss=%.4e' %(\n",
    "            i + 1,\n",
    "            train_loss, \n",
    "            valid_loss,\n",
    "            lowest_loss\n",
    "        ))\n",
    "\n",
    "    if valid_loss < lowest_loss:\n",
    "        lowest_loss = valid_loss\n",
    "        lowest_epoch = i\n",
    "        best_model = deepcopy(model.state_dict()) # 오류\n",
    "\n",
    "    else:\n",
    "        if early_stop > 0 and lowest_epoch + early_stop < i+1:\n",
    "            print('Early Stopping!! last %d Epoch' % i)\n",
    "\n",
    "            break\n",
    "\n",
    "print('The best Validation Loss => %.4e Lowset epoch => %d' %(lowest_loss, lowest_epoch))\n",
    "model.load_state_dict(best_model)"
   ]
  },
  {
   "cell_type": "code",
   "execution_count": 70,
   "metadata": {},
   "outputs": [],
   "source": [
    "t = [i.detach().numpy() for i in train_history]"
   ]
  },
  {
   "cell_type": "code",
   "execution_count": 72,
   "metadata": {},
   "outputs": [
    {
     "data": {
      "image/png": "[encoded data removed]",
      "text/plain": [
       "<Figure size 2000x1200 with 1 Axes>"
      ]
     },
     "metadata": {},
     "output_type": "display_data"
    }
   ],
   "source": [
    "plot_from = 0\n",
    "\n",
    "plt.figure(figsize=(20, 12))\n",
    "plt.plot(range(plot_from, len(t)), t[plot_from:],\n",
    "        range(plot_from, len(valid_history)), valid_history[plot_from:])\n",
    "plt.legend(['Train', 'Valid'])\n",
    "plt.title('Train Loss % Valid Loss Visualization')\n",
    "plt.yscale('log')\n",
    "plt.grid(True)\n",
    "plt.show()"
   ]
  },
  {
   "cell_type": "code",
   "execution_count": 73,
   "metadata": {},
   "outputs": [
    {
     "name": "stdout",
     "output_type": "stream",
     "text": [
      "Test Loss : 7.3138e-02\n"
     ]
    }
   ],
   "source": [
    "test_loss = 0 \n",
    "y_hat = []\n",
    "\n",
    "with torch.no_grad():\n",
    "    x_ = x[2].split(batch_size, dim=0)\n",
    "    y_ = y[2].split(batch_size, dim=0)\n",
    "\n",
    "    for x_i, y_i in zip(x_, y_):\n",
    "        y_hat_i = model(x_i)\n",
    "\n",
    "        loss = crit(y_hat_i, y_i)\n",
    "\n",
    "        test_loss += float(loss)\n",
    "        y_hat.append(y_hat_i)\n",
    "\n",
    "test_loss = test_loss / len(x_)\n",
    "y_hat = torch.cat(y_hat, dim=0)\n",
    "\n",
    "print('Test Loss : %.4e'  % (test_loss))"
   ]
  },
  {
   "cell_type": "code",
   "execution_count": 74,
   "metadata": {},
   "outputs": [
    {
     "name": "stdout",
     "output_type": "stream",
     "text": [
      "Test Accuracy: 0.9833\n"
     ]
    }
   ],
   "source": [
    "correct_cnt = (y[-1].squeeze() == torch.argmax(y_hat, dim=-1)).sum()\n",
    "total_cnt = float(y[-1].size(0))\n",
    "\n",
    "print('Test Accuracy: %.4f' % (correct_cnt / total_cnt))\n"
   ]
  },
  {
   "cell_type": "code",
   "execution_count": 77,
   "metadata": {},
   "outputs": [
    {
     "data": {
      "text/html": [
       "<div>\n",
       "<style scoped>\n",
       "    .dataframe tbody tr th:only-of-type {\n",
       "        vertical-align: middle;\n",
       "    }\n",
       "\n",
       "    .dataframe tbody tr th {\n",
       "        vertical-align: top;\n",
       "    }\n",
       "\n",
       "    .dataframe thead th {\n",
       "        text-align: right;\n",
       "    }\n",
       "</style>\n",
       "<table border=\"1\" class=\"dataframe\">\n",
       "  <thead>\n",
       "    <tr style=\"text-align: right;\">\n",
       "      <th></th>\n",
       "      <th>y</th>\n",
       "      <th>y_hat</th>\n",
       "    </tr>\n",
       "  </thead>\n",
       "  <tbody>\n",
       "    <tr>\n",
       "      <th>0</th>\n",
       "      <td>7</td>\n",
       "      <td>7</td>\n",
       "    </tr>\n",
       "    <tr>\n",
       "      <th>1</th>\n",
       "      <td>2</td>\n",
       "      <td>2</td>\n",
       "    </tr>\n",
       "    <tr>\n",
       "      <th>2</th>\n",
       "      <td>1</td>\n",
       "      <td>1</td>\n",
       "    </tr>\n",
       "    <tr>\n",
       "      <th>3</th>\n",
       "      <td>0</td>\n",
       "      <td>0</td>\n",
       "    </tr>\n",
       "    <tr>\n",
       "      <th>4</th>\n",
       "      <td>4</td>\n",
       "      <td>4</td>\n",
       "    </tr>\n",
       "  </tbody>\n",
       "</table>\n",
       "</div>"
      ],
      "text/plain": [
       "   y  y_hat\n",
       "0  7      7\n",
       "1  2      2\n",
       "2  1      1\n",
       "3  0      0\n",
       "4  4      4"
      ]
     },
     "execution_count": 77,
     "metadata": {},
     "output_type": "execute_result"
    }
   ],
   "source": [
    "pd.DataFrame(np.stack([y[2], np.argmax(y_hat, axis=1)], axis=1), columns=['y', 'y_hat']).head()"
   ]
  },
  {
   "cell_type": "code",
   "execution_count": 79,
   "metadata": {},
   "outputs": [
    {
     "name": "stdout",
     "output_type": "stream",
     "text": [
      "              precision    recall  f1-score   support\n",
      "\n",
      "           0       0.99      0.98      0.99       980\n",
      "           1       0.99      1.00      0.99      1135\n",
      "           2       0.98      0.98      0.98      1032\n",
      "           3       0.98      0.98      0.98      1010\n",
      "           4       0.97      0.99      0.98       982\n",
      "           5       0.99      0.98      0.98       892\n",
      "           6       0.99      0.98      0.98       958\n",
      "           7       0.98      0.98      0.98      1028\n",
      "           8       0.98      0.98      0.98       974\n",
      "           9       0.98      0.98      0.98      1009\n",
      "\n",
      "    accuracy                           0.98     10000\n",
      "   macro avg       0.98      0.98      0.98     10000\n",
      "weighted avg       0.98      0.98      0.98     10000\n",
      "\n"
     ]
    }
   ],
   "source": [
    "from sklearn.metrics import classification_report\n",
    "\n",
    "print(classification_report(y[2], np.argmax(y_hat, axis=1)))"
   ]
  },
  {
   "cell_type": "code",
   "execution_count": 84,
   "metadata": {},
   "outputs": [
    {
     "name": "stdout",
     "output_type": "stream",
     "text": [
      "tensor(0.2578)\n"
     ]
    }
   ],
   "source": [
    "# ERR (Error Reduction Rate) : 상대적인 모델의 개선폭 ㅇ측정\n",
    "# ERR = (1-Prior Model Accuracy) - (1-Current Model Accuracy) / (1-Prior Model Accuracy)\n",
    "\n",
    "err_rate = ((1-0.9775) - (1-(correct_cnt / total_cnt))) / (1-0.9775)\n",
    "print(err_rate)\n",
    "\n",
    "# 오류가 약 25% 줄어든 것을 확인할 수 있음!!"
   ]
  },
  {
   "cell_type": "code",
   "execution_count": null,
   "metadata": {},
   "outputs": [],
   "source": []
  },
  {
   "cell_type": "code",
   "execution_count": null,
   "metadata": {},
   "outputs": [],
   "source": []
  }
 ],
 "metadata": {
  "kernelspec": {
   "display_name": "Python 3.7.11 ('torch')",
   "language": "python",
   "name": "python3"
  },
  "language_info": {
   "codemirror_mode": {
    "name": "ipython",
    "version": 3
   },
   "file_extension": ".py",
   "mimetype": "text/x-python",
   "name": "python",
   "nbconvert_exporter": "python",
   "pygments_lexer": "ipython3",
   "version": "3.7.11"
  },
  "orig_nbformat": 4,
  "vscode": {
   "interpreter": {
    "hash": "d61e67d4406f83661a218a7594034be74564666d0640d3900a3e99845865d0f0"
   }
  }
 },
 "nbformat": 4,
 "nbformat_minor": 2
}
