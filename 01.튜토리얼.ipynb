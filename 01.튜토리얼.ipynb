{
 "cells": [
  {
   "cell_type": "code",
   "execution_count": 5,
   "metadata": {},
   "outputs": [],
   "source": [
    "import torch"
   ]
  },
  {
   "cell_type": "markdown",
   "metadata": {},
   "source": [
    "### 요소별 산출 연산"
   ]
  },
  {
   "cell_type": "code",
   "execution_count": 6,
   "metadata": {},
   "outputs": [],
   "source": [
    "import torch"
   ]
  },
  {
   "cell_type": "code",
   "execution_count": 11,
   "metadata": {},
   "outputs": [],
   "source": [
    "t1 = torch.FloatTensor([[1, 2], [3, 4]])\n",
    "t2 = torch.FloatTensor([[2, 2], [3, 4]])"
   ]
  },
  {
   "cell_type": "code",
   "execution_count": 17,
   "metadata": {},
   "outputs": [
    {
     "name": "stdout",
     "output_type": "stream",
     "text": [
      "tensor([[3., 4.],\n",
      "        [6., 8.]]) 덧셈\n",
      "tensor([[-1.,  0.],\n",
      "        [ 0.,  0.]]) 뺄셈\n",
      "tensor([[ 2.,  4.],\n",
      "        [ 9., 16.]]) 곱셈\n",
      "tensor([[0.5000, 1.0000],\n",
      "        [1.0000, 1.0000]]) 나눗셈\n"
     ]
    }
   ],
   "source": [
    "print(t1 + t2, '덧셈')\n",
    "print(t1 - t2, '뺄셈')\n",
    "print(t1 * t2, '곱셈')\n",
    "print(t1 / t2, '나눗셈')"
   ]
  },
  {
   "cell_type": "code",
   "execution_count": 26,
   "metadata": {},
   "outputs": [
    {
     "name": "stdout",
     "output_type": "stream",
     "text": [
      "tensor([[  1.,   4.],\n",
      "        [ 27., 256.]]) 제곱\n",
      "tensor([[False,  True],\n",
      "        [ True,  True]]) 같은\n",
      "tensor([[ True, False],\n",
      "        [False, False]]) 같지 않은\n"
     ]
    }
   ],
   "source": [
    "print(t1 ** t2, '제곱')\n",
    "print(t1 == t2, '같은')\n",
    "print(t1 != t2, '같지 않은')"
   ]
  },
  {
   "cell_type": "code",
   "execution_count": 28,
   "metadata": {},
   "outputs": [
    {
     "data": {
      "text/plain": [
       "tensor([[1., 2.],\n",
       "        [3., 4.]])"
      ]
     },
     "execution_count": 28,
     "metadata": {},
     "output_type": "execute_result"
    }
   ],
   "source": [
    "t1.mul()"
   ]
  },
  {
   "cell_type": "code",
   "execution_count": 29,
   "metadata": {},
   "outputs": [
    {
     "data": {
      "text/plain": [
       "tensor([[2., 2.],\n",
       "        [3., 4.]])"
      ]
     },
     "execution_count": 29,
     "metadata": {},
     "output_type": "execute_result"
    }
   ],
   "source": [
    "t2"
   ]
  },
  {
   "cell_type": "code",
   "execution_count": 31,
   "metadata": {},
   "outputs": [
    {
     "data": {
      "text/plain": [
       "tensor([[ 2.,  4.],\n",
       "        [ 9., 16.]])"
      ]
     },
     "execution_count": 31,
     "metadata": {},
     "output_type": "execute_result"
    }
   ],
   "source": [
    "## inplace 연산 X\n",
    "# inplace 연산을 하려면 mul_\n",
    "\n",
    "t1.mul(t2)"
   ]
  },
  {
   "cell_type": "code",
   "execution_count": 36,
   "metadata": {},
   "outputs": [
    {
     "name": "stdout",
     "output_type": "stream",
     "text": [
      "기존 tensor([[3., 3.],\n",
      "        [2., 1.]])\n",
      "multiply tensor([[6., 6.],\n",
      "        [6., 4.]])\n"
     ]
    }
   ],
   "source": [
    "t3 = torch.FloatTensor([[3, 3], [2, 1]])\n",
    "print('기존',t3)\n",
    "\n",
    "t3.mul_(t2)\n",
    "print('multiply',t3)"
   ]
  },
  {
   "cell_type": "code",
   "execution_count": 42,
   "metadata": {},
   "outputs": [
    {
     "data": {
      "text/plain": [
       "tensor([[7., 8.],\n",
       "        [7., 6.]])"
      ]
     },
     "execution_count": 42,
     "metadata": {},
     "output_type": "execute_result"
    }
   ],
   "source": [
    "t3 + torch.FloatTensor([1, 2])"
   ]
  },
  {
   "cell_type": "code",
   "execution_count": 43,
   "metadata": {},
   "outputs": [
    {
     "data": {
      "text/plain": [
       "tensor([[7., 7.],\n",
       "        [8., 6.]])"
      ]
     },
     "execution_count": 43,
     "metadata": {},
     "output_type": "execute_result"
    }
   ],
   "source": [
    "t3 + torch.FloatTensor([[1], [2]])"
   ]
  },
  {
   "cell_type": "markdown",
   "metadata": {},
   "source": [
    "### 텐서 형태 변환\n",
    "\n",
    "    - 텐서의 전체요소(element)개수는 유지한 채 모양을 바꾸는 방법"
   ]
  },
  {
   "cell_type": "code",
   "execution_count": 44,
   "metadata": {},
   "outputs": [
    {
     "name": "stdout",
     "output_type": "stream",
     "text": [
      "tensor([[[ 1.,  2.],\n",
      "         [ 3.,  4.]],\n",
      "\n",
      "        [[ 5.,  6.],\n",
      "         [ 7.,  8.]],\n",
      "\n",
      "        [[ 9., 10.],\n",
      "         [10., 11.]]])\n",
      "torch.Size([3, 2, 2])\n"
     ]
    }
   ],
   "source": [
    "x = torch.FloatTensor([[[1, 2],\n",
    "                        [3, 4]],\n",
    "                        [[5, 6], \n",
    "                        [7, 8]],\n",
    "                        [[9, 10],\n",
    "                        [10, 11]]])\n",
    "\n",
    "\n",
    "print(x)\n",
    "print(x.size())"
   ]
  },
  {
   "cell_type": "code",
   "execution_count": 46,
   "metadata": {},
   "outputs": [
    {
     "name": "stdout",
     "output_type": "stream",
     "text": [
      "tensor([ 1.,  2.,  3.,  4.,  5.,  6.,  7.,  8.,  9., 10., 10., 11.])\n",
      "torch.Size([12])\n"
     ]
    }
   ],
   "source": [
    "print(x.view(12))\n",
    "print(x.view(12).size())"
   ]
  },
  {
   "cell_type": "code",
   "execution_count": 47,
   "metadata": {},
   "outputs": [
    {
     "name": "stdout",
     "output_type": "stream",
     "text": [
      "tensor([[ 1.,  2.,  3.],\n",
      "        [ 4.,  5.,  6.],\n",
      "        [ 7.,  8.,  9.],\n",
      "        [10., 10., 11.]])\n",
      "torch.Size([4, 3])\n"
     ]
    }
   ],
   "source": [
    "print(x.view(4, 3))\n",
    "print(x.view(4, 3).size())"
   ]
  },
  {
   "cell_type": "code",
   "execution_count": 48,
   "metadata": {},
   "outputs": [
    {
     "name": "stdout",
     "output_type": "stream",
     "text": [
      "tensor([[ 1.,  2.,  3.,  4.,  5.,  6.],\n",
      "        [ 7.,  8.,  9., 10., 10., 11.]])\n",
      "torch.Size([2, 6])\n"
     ]
    }
   ],
   "source": [
    "## -1은 모든 요소 곱하고 남은 나머지 다 떄려박아\n",
    "\n",
    "print(x.view(-1, 6))\n",
    "print(x.view(-1, 6).size())\n"
   ]
  },
  {
   "cell_type": "code",
   "execution_count": 49,
   "metadata": {},
   "outputs": [
    {
     "data": {
      "text/plain": [
       "tensor([[ 1.,  2.,  3.,  4.,  5.,  6.],\n",
       "        [ 7.,  8.,  9., 10., 10., 11.]])"
      ]
     },
     "execution_count": 49,
     "metadata": {},
     "output_type": "execute_result"
    }
   ],
   "source": [
    "x.reshape(-1, 6)"
   ]
  },
  {
   "cell_type": "code",
   "execution_count": 51,
   "metadata": {},
   "outputs": [
    {
     "data": {
      "text/plain": [
       "torch.Size([1, 2, 2])"
      ]
     },
     "execution_count": 51,
     "metadata": {},
     "output_type": "execute_result"
    }
   ],
   "source": [
    "x = torch.FloatTensor([\n",
    "                        [[1, 2], \n",
    "                        [3, 4]]\n",
    "                        ])\n",
    "x.size()"
   ]
  },
  {
   "cell_type": "code",
   "execution_count": 54,
   "metadata": {},
   "outputs": [
    {
     "name": "stdout",
     "output_type": "stream",
     "text": [
      "torch.Size([2, 2])\n"
     ]
    }
   ],
   "source": [
    "## squeeze() 함수는 차원의 수가 1인 것을 없애줘\n",
    "# 인덱스 지정 가능하나 만약 지정한 인덱스가 1인 아닌 경우 원래 Tensor 반환\n",
    "\n",
    "x.squeeze()\n",
    "print(x.squeeze().size())\n"
   ]
  },
  {
   "cell_type": "code",
   "execution_count": 56,
   "metadata": {},
   "outputs": [
    {
     "name": "stdout",
     "output_type": "stream",
     "text": [
      "tensor([[1., 2.],\n",
      "        [3., 4.]])\n",
      "torch.Size([2, 2])\n"
     ]
    }
   ],
   "source": [
    "## unsqueeze() 함수는 1인 차원을 삽입\n",
    "x = x.squeeze()\n",
    "print(x)\n",
    "print(x.size())"
   ]
  },
  {
   "cell_type": "code",
   "execution_count": 60,
   "metadata": {},
   "outputs": [
    {
     "name": "stdout",
     "output_type": "stream",
     "text": [
      "tensor([[[1., 2.],\n",
      "         [3., 4.]]])\n",
      "torch.Size([1, 2, 2])\n"
     ]
    }
   ],
   "source": [
    "print(x.unsqueeze(0))\n",
    "print(x.unsqueeze(0).size())\n"
   ]
  },
  {
   "cell_type": "markdown",
   "metadata": {},
   "source": [
    "### 텐서 자르기 & 붙이기"
   ]
  },
  {
   "cell_type": "code",
   "execution_count": 67,
   "metadata": {},
   "outputs": [
    {
     "name": "stdout",
     "output_type": "stream",
     "text": [
      "torch.Size([3, 2, 2])\n"
     ]
    }
   ],
   "source": [
    "x = torch.FloatTensor([[[1, 2], \n",
    "                       [3, 4]],\n",
    "                        [[5, 6],\n",
    "                        [7, 8]],\n",
    "                        [[9, 10],\n",
    "                        [11, 12]]])\n",
    "print(x.size())"
   ]
  },
  {
   "cell_type": "code",
   "execution_count": 68,
   "metadata": {},
   "outputs": [
    {
     "data": {
      "text/plain": [
       "tensor([[1., 2.],\n",
       "        [3., 4.]])"
      ]
     },
     "execution_count": 68,
     "metadata": {},
     "output_type": "execute_result"
    }
   ],
   "source": [
    "x[0]"
   ]
  },
  {
   "cell_type": "code",
   "execution_count": 69,
   "metadata": {},
   "outputs": [
    {
     "data": {
      "text/plain": [
       "tensor([[ 9., 10.],\n",
       "        [11., 12.]])"
      ]
     },
     "execution_count": 69,
     "metadata": {},
     "output_type": "execute_result"
    }
   ],
   "source": [
    "x[-1]"
   ]
  },
  {
   "cell_type": "code",
   "execution_count": 70,
   "metadata": {},
   "outputs": [
    {
     "data": {
      "text/plain": [
       "tensor([[ 1.,  2.],\n",
       "        [ 5.,  6.],\n",
       "        [ 9., 10.]])"
      ]
     },
     "execution_count": 70,
     "metadata": {},
     "output_type": "execute_result"
    }
   ],
   "source": [
    "x[:, 0]"
   ]
  },
  {
   "cell_type": "code",
   "execution_count": 75,
   "metadata": {},
   "outputs": [
    {
     "data": {
      "text/plain": [
       "tensor([[ 3.,  4.],\n",
       "        [ 7.,  8.],\n",
       "        [11., 12.]])"
      ]
     },
     "execution_count": 75,
     "metadata": {},
     "output_type": "execute_result"
    }
   ],
   "source": [
    "x[:, 1]"
   ]
  },
  {
   "cell_type": "code",
   "execution_count": 77,
   "metadata": {},
   "outputs": [
    {
     "data": {
      "text/plain": [
       "tensor([[[7., 8.]]])"
      ]
     },
     "execution_count": 77,
     "metadata": {},
     "output_type": "execute_result"
    }
   ],
   "source": [
    "x[1:2, 1:, :]"
   ]
  },
  {
   "cell_type": "code",
   "execution_count": 80,
   "metadata": {},
   "outputs": [
    {
     "name": "stdout",
     "output_type": "stream",
     "text": [
      "tensor([[ 0.0000e+00,  8.5899e+09, -3.5679e-23,  2.0005e+00],\n",
      "        [ 2.1019e-44,  0.0000e+00,  0.0000e+00,  0.0000e+00],\n",
      "        [ 0.0000e+00,  0.0000e+00,  0.0000e+00,  0.0000e+00],\n",
      "        [ 0.0000e+00,  0.0000e+00,  0.0000e+00,  0.0000e+00],\n",
      "        [ 0.0000e+00,  0.0000e+00,  0.0000e+00,  0.0000e+00],\n",
      "        [ 0.0000e+00,  0.0000e+00,  0.0000e+00,  0.0000e+00],\n",
      "        [ 0.0000e+00,  0.0000e+00,  0.0000e+00,  0.0000e+00],\n",
      "        [ 0.0000e+00,  0.0000e+00,  5.2478e-08,  1.0665e-08],\n",
      "        [ 0.0000e+00,  8.5899e+09,  0.0000e+00,  8.5899e+09],\n",
      "        [ 1.3577e+22,  2.6258e-06,  3.3829e+21,  2.1707e-18]])\n",
      "torch.Size([10, 4])\n"
     ]
    }
   ],
   "source": [
    "x = torch.FloatTensor(10, 4)\n",
    "print(x)\n",
    "print(x.size())"
   ]
  },
  {
   "cell_type": "code",
   "execution_count": 82,
   "metadata": {},
   "outputs": [
    {
     "name": "stdout",
     "output_type": "stream",
     "text": [
      "0번째 부분텐서\n",
      "tensor([[ 0.0000e+00,  8.5899e+09, -3.5679e-23,  2.0005e+00],\n",
      "        [ 2.1019e-44,  0.0000e+00,  0.0000e+00,  0.0000e+00],\n",
      "        [ 0.0000e+00,  0.0000e+00,  0.0000e+00,  0.0000e+00],\n",
      "        [ 0.0000e+00,  0.0000e+00,  0.0000e+00,  0.0000e+00]])\n",
      "사이즈torch.Size([4, 4])\n",
      "1번째 부분텐서\n",
      "tensor([[0.0000e+00, 0.0000e+00, 0.0000e+00, 0.0000e+00],\n",
      "        [0.0000e+00, 0.0000e+00, 0.0000e+00, 0.0000e+00],\n",
      "        [0.0000e+00, 0.0000e+00, 0.0000e+00, 0.0000e+00],\n",
      "        [0.0000e+00, 0.0000e+00, 5.2478e-08, 1.0665e-08]])\n",
      "사이즈torch.Size([4, 4])\n",
      "2번째 부분텐서\n",
      "tensor([[0.0000e+00, 8.5899e+09, 0.0000e+00, 8.5899e+09],\n",
      "        [1.3577e+22, 2.6258e-06, 3.3829e+21, 2.1707e-18]])\n",
      "사이즈torch.Size([2, 4])\n"
     ]
    }
   ],
   "source": [
    "splits = x.split(4, dim = 0) # 첫 번쨰 차원이 4가 되도록 전체 텐서를 나눈다\n",
    "\n",
    "for i,s in enumerate(splits):\n",
    "    print(f'{i}번째 부분텐서\\n{s}\\n사이즈{s.size()}')"
   ]
  },
  {
   "cell_type": "code",
   "execution_count": 83,
   "metadata": {},
   "outputs": [
    {
     "name": "stdout",
     "output_type": "stream",
     "text": [
      "0번째 부분텐서\n",
      "tensor([[0.0000e+00, 8.5899e+09, 0.0000e+00, 8.5899e+09],\n",
      "        [1.9618e-44, 0.0000e+00, 0.0000e+00, 0.0000e+00],\n",
      "        [0.0000e+00, 2.3346e-09, 7.7052e+31, 7.2148e+22]])\n",
      "사이즈torch.Size([3, 4])\n",
      "1번째 부분텐서\n",
      "tensor([[1.5766e-19, 1.0256e-08, 1.6802e-04, 3.0956e+12],\n",
      "        [4.3354e-08, 1.6997e-04, 6.8626e-07, 1.2963e+16],\n",
      "        [2.1707e-18, 7.0952e+22, 1.7748e+28, 1.8176e+31]])\n",
      "사이즈torch.Size([3, 4])\n",
      "2번째 부분텐서\n",
      "tensor([[7.2708e+31, 5.0778e+31, 3.2608e-12, 1.7728e+28],\n",
      "        [7.0367e+22, 2.1715e-18, 5.2478e-08, 1.0665e-08]])\n",
      "사이즈torch.Size([2, 4])\n"
     ]
    }
   ],
   "source": [
    "x = torch.FloatTensor(8, 4)\n",
    "\n",
    "chunks = x.chunk(3, dim=0) # 원하는 몇개의 부분으로 나누는 것! (3개로 나눠줘)\n",
    "\n",
    "for i, c in enumerate(chunks):\n",
    "    print(f'{i}번째 부분텐서\\n{c}\\n사이즈{c.size()}')\n"
   ]
  },
  {
   "cell_type": "code",
   "execution_count": 96,
   "metadata": {},
   "outputs": [
    {
     "data": {
      "text/plain": [
       "tensor([[[ 9., 10.],\n",
       "         [11., 12.]],\n",
       "\n",
       "        [[ 5.,  6.],\n",
       "         [ 7.,  8.]]])"
      ]
     },
     "execution_count": 96,
     "metadata": {},
     "output_type": "execute_result"
    }
   ],
   "source": [
    "x = torch.FloatTensor([[[1, 1],\n",
    "                        [3, 4]],\n",
    "                        [[5, 6],\n",
    "                        [7, 8]],\n",
    "                        [[9, 10],\n",
    "                        [11, 12]]])\n",
    "        \n",
    "\n",
    "indices = torch.LongTensor([2, 1])\n",
    "\n",
    "x.index_select(dim=0, index=indices)\n"
   ]
  },
  {
   "cell_type": "code",
   "execution_count": 102,
   "metadata": {},
   "outputs": [
    {
     "name": "stdout",
     "output_type": "stream",
     "text": [
      "torch.Size([3, 3]) torch.Size([3, 3])\n",
      "tensor([[ 1.,  2.,  3.],\n",
      "        [ 4.,  5.,  6.],\n",
      "        [ 7.,  8.,  9.],\n",
      "        [10., 11., 12.],\n",
      "        [13., 14., 15.],\n",
      "        [16., 17., 18.]])\n",
      "torch.Size([6, 3])\n",
      "tensor([[ 1.,  2.,  3., 10., 11., 12.],\n",
      "        [ 4.,  5.,  6., 13., 14., 15.],\n",
      "        [ 7.,  8.,  9., 16., 17., 18.]])\n",
      "torch.Size([3, 6])\n"
     ]
    }
   ],
   "source": [
    "t1 = torch.FloatTensor([[1, 2, 3],\n",
    "                        [4, 5, 6],\n",
    "                        [7, 8, 9]])\n",
    "t2 = torch.FloatTensor([[10, 11, 12],\n",
    "                        [13, 14, 15],\n",
    "                        [16, 17, 18]])\n",
    "\n",
    "print(t1.size(), t2.size())\n",
    "\n",
    "print(torch.cat(tensors=[t1, t2], dim=0))\n",
    "print(torch.cat(tensors=[t1, t2], dim = 0).size())\n",
    "\n",
    "print(torch.cat(tensors=[t1, t2], dim = 1))\n",
    "print(torch.cat(tensors=[t1, t2], dim = 1).size())\n",
    "\n",
    "# torch.cat(t1, t2)"
   ]
  },
  {
   "cell_type": "code",
   "execution_count": 111,
   "metadata": {},
   "outputs": [
    {
     "name": "stdout",
     "output_type": "stream",
     "text": [
      "tensor([[[ 1.,  2.,  3.],\n",
      "         [ 4.,  5.,  6.],\n",
      "         [ 7.,  8.,  9.]],\n",
      "\n",
      "        [[10., 11., 12.],\n",
      "         [13., 14., 15.],\n",
      "         [16., 17., 18.]]])\n",
      "torch.Size([2, 3, 3])\n"
     ]
    }
   ],
   "source": [
    "print(torch.stack([t1, t2]))\n",
    "print(torch.stack([t1, t2]).size())"
   ]
  },
  {
   "cell_type": "markdown",
   "metadata": {},
   "source": [
    "### 유용한 함수들\n"
   ]
  },
  {
   "cell_type": "markdown",
   "metadata": {},
   "source": [
    "## expand 함수\n",
    "    - 차원의 크기가 1인 차원을 원하는 크기로 늘려주는 역할 수행"
   ]
  },
  {
   "cell_type": "code",
   "execution_count": 116,
   "metadata": {},
   "outputs": [
    {
     "name": "stdout",
     "output_type": "stream",
     "text": [
      "tensor([[[1., 2.]],\n",
      "\n",
      "        [[3., 4.]]])\n",
      "torch.Size([2, 1, 2])\n"
     ]
    }
   ],
   "source": [
    "x = torch.FloatTensor([[[1, 2]],\n",
    "                        [[3, 4]]])\n",
    "\n",
    "print(x)\n",
    "print(x.size())"
   ]
  },
  {
   "cell_type": "code",
   "execution_count": 117,
   "metadata": {},
   "outputs": [
    {
     "name": "stdout",
     "output_type": "stream",
     "text": [
      "tensor([[[1., 2.],\n",
      "         [1., 2.],\n",
      "         [1., 2.]],\n",
      "\n",
      "        [[3., 4.],\n",
      "         [3., 4.],\n",
      "         [3., 4.]]])\n",
      "torch.Size([2, 3, 2])\n"
     ]
    }
   ],
   "source": [
    "y = x.expand(2, 3, 2)\n",
    "print(y)\n",
    "print(y.size())"
   ]
  },
  {
   "cell_type": "code",
   "execution_count": 122,
   "metadata": {},
   "outputs": [
    {
     "data": {
      "text/plain": [
       "torch.Size([10])"
      ]
     },
     "execution_count": 122,
     "metadata": {},
     "output_type": "execute_result"
    }
   ],
   "source": [
    "## Random Permuation\n",
    "# 랜덤수열 생성\n",
    "\n",
    "x = torch.randperm(10)\n",
    "x.size()"
   ]
  },
  {
   "cell_type": "code",
   "execution_count": 125,
   "metadata": {},
   "outputs": [
    {
     "name": "stdout",
     "output_type": "stream",
     "text": [
      "tensor([[[ 8, 18, 21],\n",
      "         [22,  2, 24],\n",
      "         [26,  3, 13]],\n",
      "\n",
      "        [[17, 25, 16],\n",
      "         [12, 23,  6],\n",
      "         [ 1, 11, 14]],\n",
      "\n",
      "        [[19,  0,  9],\n",
      "         [ 5,  7, 10],\n",
      "         [ 4, 20, 15]]])\n",
      "torch.Size([3, 3, 3])\n"
     ]
    }
   ],
   "source": [
    "## argmax\n",
    "# 출력값을 최대로 만드는 입력값 반환\n",
    "\n",
    "x = torch.randperm(3 ** 3).reshape(3, 3, -1)\n",
    "print(x)\n",
    "print(x.size())"
   ]
  },
  {
   "cell_type": "code",
   "execution_count": 128,
   "metadata": {},
   "outputs": [
    {
     "data": {
      "text/plain": [
       "tensor([[2, 2, 0],\n",
       "        [1, 1, 2],\n",
       "        [0, 2, 1]])"
      ]
     },
     "execution_count": 128,
     "metadata": {},
     "output_type": "execute_result"
    }
   ],
   "source": [
    "y = x.argmax(dim = -1)\n",
    "y"
   ]
  },
  {
   "cell_type": "code",
   "execution_count": 130,
   "metadata": {},
   "outputs": [
    {
     "data": {
      "text/plain": [
       "tensor([[2, 1, 0],\n",
       "        [0, 1, 0],\n",
       "        [0, 2, 2]])"
      ]
     },
     "execution_count": 130,
     "metadata": {},
     "output_type": "execute_result"
    }
   ],
   "source": [
    "y = x.argmax(dim = 0)\n",
    "y"
   ]
  },
  {
   "cell_type": "code",
   "execution_count": 136,
   "metadata": {},
   "outputs": [
    {
     "data": {
      "text/plain": [
       "tensor([[2, 0, 1],\n",
       "        [0, 0, 0],\n",
       "        [0, 2, 2]])"
      ]
     },
     "execution_count": 136,
     "metadata": {},
     "output_type": "execute_result"
    }
   ],
   "source": [
    "y = x.argmax(dim = 1)\n",
    "y"
   ]
  },
  {
   "cell_type": "code",
   "execution_count": 137,
   "metadata": {},
   "outputs": [
    {
     "name": "stdout",
     "output_type": "stream",
     "text": [
      "tensor([[[21, 18],\n",
      "         [24, 22],\n",
      "         [26, 13]],\n",
      "\n",
      "        [[25, 17],\n",
      "         [23, 12],\n",
      "         [14, 11]],\n",
      "\n",
      "        [[19,  9],\n",
      "         [10,  7],\n",
      "         [20, 15]]])\n",
      "torch.Size([3, 3, 2])\n"
     ]
    }
   ],
   "source": [
    "## topk 함수\n",
    "# argmax는 가장 큰 1개, topk 함수는 k개까지 value, index 튜플로 반환\n",
    "\n",
    "values, indices = torch.topk(x, k=2, dim = -1)\n",
    "print(values)\n",
    "print(values.size())"
   ]
  },
  {
   "cell_type": "code",
   "execution_count": 141,
   "metadata": {},
   "outputs": [
    {
     "name": "stdout",
     "output_type": "stream",
     "text": [
      "tensor([[[ 8, 18, 21],\n",
      "         [22,  2, 24],\n",
      "         [26,  3, 13]],\n",
      "\n",
      "        [[17, 25, 16],\n",
      "         [12, 23,  6],\n",
      "         [ 1, 11, 14]],\n",
      "\n",
      "        [[19,  0,  9],\n",
      "         [ 5,  7, 10],\n",
      "         [ 4, 20, 15]]])\n",
      "tensor([[[21, 18,  8],\n",
      "         [24, 22,  2],\n",
      "         [26, 13,  3]],\n",
      "\n",
      "        [[25, 17, 16],\n",
      "         [23, 12,  6],\n",
      "         [14, 11,  1]],\n",
      "\n",
      "        [[19,  9,  0],\n",
      "         [10,  7,  5],\n",
      "         [20, 15,  4]]])\n"
     ]
    }
   ],
   "source": [
    "values, indices = torch.topk(x, k=x.size(-1), largest=True)\n",
    "print(x)\n",
    "print(values)"
   ]
  },
  {
   "cell_type": "code",
   "execution_count": 146,
   "metadata": {},
   "outputs": [
    {
     "name": "stdout",
     "output_type": "stream",
     "text": [
      "tensor([[False, False, False],\n",
      "        [False, False,  True],\n",
      "        [ True,  True,  True]])\n"
     ]
    },
    {
     "data": {
      "text/plain": [
       "tensor([[ 0.,  1.,  2.],\n",
       "        [ 3.,  4., -1.],\n",
       "        [-1., -1., -1.]])"
      ]
     },
     "execution_count": 146,
     "metadata": {},
     "output_type": "execute_result"
    }
   ],
   "source": [
    "## masked fill 함수\n",
    "# 원하는 부분만 바꿀 때 사용\n",
    "\n",
    "x = torch.FloatTensor([i for i in range(9)]).reshape(3, -1)\n",
    "\n",
    "mask = x > 4\n",
    "print(mask)\n",
    "\n",
    "x.masked_fill(mask, value=-1)\n"
   ]
  },
  {
   "cell_type": "code",
   "execution_count": 147,
   "metadata": {},
   "outputs": [
    {
     "data": {
      "text/plain": [
       "tensor([[1., 1., 1.],\n",
       "        [1., 1., 1.]])"
      ]
     },
     "execution_count": 147,
     "metadata": {},
     "output_type": "execute_result"
    }
   ],
   "source": [
    "torch.ones(2, 3)"
   ]
  },
  {
   "cell_type": "code",
   "execution_count": 148,
   "metadata": {},
   "outputs": [
    {
     "data": {
      "text/plain": [
       "tensor([[0., 0., 0.],\n",
       "        [0., 0., 0.]])"
      ]
     },
     "execution_count": 148,
     "metadata": {},
     "output_type": "execute_result"
    }
   ],
   "source": [
    "torch.zeros(2, 3)"
   ]
  },
  {
   "cell_type": "code",
   "execution_count": 154,
   "metadata": {},
   "outputs": [
    {
     "name": "stdout",
     "output_type": "stream",
     "text": [
      "tensor([[ 0.,  1.,  2.],\n",
      "        [ 3.,  4.,  5.],\n",
      "        [ 6.,  7.,  8.],\n",
      "        [ 9., 10., 11.],\n",
      "        [12., 13., 14.]])\n",
      "tensor([[0., 0., 0.],\n",
      "        [0., 0., 0.],\n",
      "        [0., 0., 0.],\n",
      "        [0., 0., 0.],\n",
      "        [0., 0., 0.]])\n",
      "tensor([[1., 1., 1.],\n",
      "        [1., 1., 1.],\n",
      "        [1., 1., 1.],\n",
      "        [1., 1., 1.],\n",
      "        [1., 1., 1.]])\n"
     ]
    }
   ],
   "source": [
    "x = torch.Tensor(range(15)).reshape(5, 3)\n",
    "print(x)\n",
    "\n",
    "print(torch.zeros_like(x))\n",
    "print(torch.ones_like(x))"
   ]
  },
  {
   "cell_type": "code",
   "execution_count": null,
   "metadata": {},
   "outputs": [],
   "source": []
  }
 ],
 "metadata": {
  "kernelspec": {
   "display_name": "Python 3.7.11 ('torch')",
   "language": "python",
   "name": "python3"
  },
  "language_info": {
   "codemirror_mode": {
    "name": "ipython",
    "version": 3
   },
   "file_extension": ".py",
   "mimetype": "text/x-python",
   "name": "python",
   "nbconvert_exporter": "python",
   "pygments_lexer": "ipython3",
   "version": "3.7.11"
  },
  "orig_nbformat": 4,
  "vscode": {
   "interpreter": {
    "hash": "d61e67d4406f83661a218a7594034be74564666d0640d3900a3e99845865d0f0"
   }
  }
 },
 "nbformat": 4,
 "nbformat_minor": 2
}
